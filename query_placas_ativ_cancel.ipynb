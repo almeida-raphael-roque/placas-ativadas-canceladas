{
 "cells": [
  {
   "cell_type": "markdown",
   "metadata": {},
   "source": [
    "imoportando bibliotecas"
   ]
  },
  {
   "cell_type": "code",
   "execution_count": 51,
   "metadata": {},
   "outputs": [],
   "source": [
    "import pandas as pd\n",
    "import openpyxl\n",
    "import awswrangler as awr\n",
    "import sqlite3"
   ]
  },
  {
   "cell_type": "markdown",
   "metadata": {},
   "source": [
    "gerando dfs"
   ]
  },
  {
   "cell_type": "code",
   "execution_count": 40,
   "metadata": {},
   "outputs": [],
   "source": [
    "read_path = r\"C:\\Users\\raphael.almeida\\OneDrive - Grupo Unus\\analise de dados - Arquivos em excel\\CAMPANHA_RANKING_ATIVACOES.xlsx\"\n",
    "\n",
    "df_ativ = pd.read_excel(read_path, engine='openpyxl', sheet_name='ATIVAÇÕES')\n",
    "df_cancel = pd.read_excel(read_path, engine='openpyxl', sheet_name='CANCELAMENTOS')\n",
    "\n",
    "\n",
    "query_athena = \"\"\"\n",
    "SELECT parent, id_set, historic, note \n",
    "FROM silver.insurance_reg_historic\n",
    "\n",
    "UNION ALL\n",
    "\n",
    "SELECT parent, id_set, historic, note\n",
    "FROM stcoop.insurance_reg_historic\n",
    "\n",
    "UNION ALL\n",
    "\n",
    "SELECT parent, id_set, historic, note\n",
    "FROM viavante.insurance_reg_historic\n",
    "\"\"\"\n",
    "\n",
    "df_historico = awr.athena.read_sql_query(query_athena, database='silver')\n"
   ]
  },
  {
   "cell_type": "markdown",
   "metadata": {},
   "source": [
    "criando dfs filtrados"
   ]
  },
  {
   "cell_type": "code",
   "execution_count": 52,
   "metadata": {},
   "outputs": [],
   "source": [
    "#setando para datetime com pandas\n",
    "df_cancel['data_cancelamento']=pd.to_datetime(df_cancel['data_cancelamento'])\n",
    "\n",
    "df_ativ['data_ativacao'] = pd.to_datetime(df_ativ['data_ativacao'])\n",
    "\n",
    "\n",
    "#filtrando datas\n",
    "df_cancel_1trim = df_cancel[df_cancel['data_cancelamento'].between('2025-01-01', '2025-03-31')]\n",
    "\n",
    "df_ativ_2trim = df_ativ[df_ativ['data_ativacao'].dt.month == 4]\n",
    "\n",
    "#filtrando empresas\n",
    "\n",
    "df_cancel_1trim_seg_st = df_cancel_1trim[df_cancel_1trim['empresa'].isin(['Segtruck','Stcoop'])]\n",
    "\n",
    "df_ativ_2trim_via = df_ativ_2trim[df_ativ_2trim['empresa']=='Viavante']\n",
    "\n",
    "\n",
    "#simplificando nomes\n",
    "df_cancel = df_cancel_1trim_seg_st\n",
    "\n",
    "df_ativ = df_ativ_2trim_via\n",
    "\n",
    "\n"
   ]
  },
  {
   "cell_type": "markdown",
   "metadata": {},
   "source": [
    "conectando com sqlite3"
   ]
  },
  {
   "cell_type": "code",
   "execution_count": 53,
   "metadata": {},
   "outputs": [
    {
     "data": {
      "text/plain": [
       "1058647"
      ]
     },
     "execution_count": 53,
     "metadata": {},
     "output_type": "execute_result"
    }
   ],
   "source": [
    "import sqlite3\n",
    "\n",
    "conn  = sqlite3.connect(\":memory:\") #criando banco temporário\n",
    "\n",
    "df_cancel.to_sql(\"canceladas\", conn, index=False, if_exists='replace')\n",
    "\n",
    "df_ativ.to_sql(\"ativadas\", conn, index=False, if_exists='replace')\n",
    "\n",
    "df_historico.to_sql(\"historico\", conn, index=False, if_exists='replace')\n",
    "\n",
    "\n",
    "\n"
   ]
  },
  {
   "cell_type": "markdown",
   "metadata": {},
   "source": [
    "query"
   ]
  },
  {
   "cell_type": "code",
   "execution_count": 57,
   "metadata": {},
   "outputs": [
    {
     "data": {
      "text/html": [
       "<div>\n",
       "<style scoped>\n",
       "    .dataframe tbody tr th:only-of-type {\n",
       "        vertical-align: middle;\n",
       "    }\n",
       "\n",
       "    .dataframe tbody tr th {\n",
       "        vertical-align: top;\n",
       "    }\n",
       "\n",
       "    .dataframe thead th {\n",
       "        text-align: right;\n",
       "    }\n",
       "</style>\n",
       "<table border=\"1\" class=\"dataframe\">\n",
       "  <thead>\n",
       "    <tr style=\"text-align: right;\">\n",
       "      <th></th>\n",
       "      <th>placa</th>\n",
       "      <th>chassi</th>\n",
       "      <th>id_placa</th>\n",
       "      <th>id_veiculo</th>\n",
       "      <th>id_carroceria</th>\n",
       "      <th>matricula_cancelamento</th>\n",
       "      <th>conjunto_cancelamento</th>\n",
       "      <th>unidade_cancelamento</th>\n",
       "      <th>data_cancelamento</th>\n",
       "      <th>empresa_cancelamento</th>\n",
       "      <th>matricula_ativacao</th>\n",
       "      <th>conjunto_ativacao</th>\n",
       "      <th>unidade_ativacao</th>\n",
       "      <th>data_ativacao</th>\n",
       "      <th>empresa_ativacao</th>\n",
       "      <th>historic</th>\n",
       "      <th>note</th>\n",
       "    </tr>\n",
       "  </thead>\n",
       "  <tbody>\n",
       "  </tbody>\n",
       "</table>\n",
       "</div>"
      ],
      "text/plain": [
       "Empty DataFrame\n",
       "Columns: [placa, chassi, id_placa, id_veiculo, id_carroceria, matricula_cancelamento, conjunto_cancelamento, unidade_cancelamento, data_cancelamento, empresa_cancelamento, matricula_ativacao, conjunto_ativacao, unidade_ativacao, data_ativacao, empresa_ativacao, historic, note]\n",
       "Index: []"
      ]
     },
     "execution_count": 57,
     "metadata": {},
     "output_type": "execute_result"
    }
   ],
   "source": [
    "query = \"\"\"\n",
    "SELECT \n",
    "    c.placa,\n",
    "    c.chassi,\n",
    "    c.id_placa,\n",
    "    c.id_veiculo,\n",
    "    c.id_carroceria,\n",
    "\n",
    "    c.matricula AS matricula_cancelamento,\n",
    "    c.conjunto AS conjunto_cancelamento,\n",
    "    c.unidade AS unidade_cancelamento, \n",
    "    c.data_cancelamento AS data_cancelamento,\n",
    "    c.empresa AS empresa_cancelamento,\n",
    "\n",
    "    a.matricula AS matricula_ativacao,\n",
    "    a.conjunto AS conjunto_ativacao,\n",
    "    a.unidade AS unidade_ativacao, \n",
    "    a.data_ativacao AS data_ativacao,\n",
    "    a.empresa AS empresa_ativacao,\n",
    "    \n",
    "    h.historic,\n",
    "    h.note\n",
    "    \n",
    "FROM canceladas AS c\n",
    "INNER JOIN ativadas a ON a.placa = c.placa\n",
    "LEFT JOIN historico h ON h.id_set = a.conjunto AND h.parent = a.matricula \n",
    "\n",
    "WHERE h.historic LIKE \"%MIGRA%\" OR\n",
    "h.note LIKE \"%MIGRA%\"\n",
    "\"\"\"\n",
    "\n",
    "df_cancel_ativ = pd.read_sql_query(query,conn)\n",
    "\n",
    "df_cancel_ativ['data_ativacao'] = pd.to_datetime(df_cancel_ativ['data_ativacao'])\n",
    "df_cancel_ativ['data_ativacao'] = df_cancel_ativ['data_ativacao'].dt.date\n",
    "\n",
    "df_cancel_ativ['data_cancelamento'] = pd.to_datetime(df_cancel_ativ['data_cancelamento'])\n",
    "df_cancel_ativ['data_cancelamento'] = df_cancel_ativ['data_cancelamento'].dt.date\n",
    "\n",
    "df_cancel_ativ.head()"
   ]
  },
  {
   "cell_type": "markdown",
   "metadata": {},
   "source": [
    "verificação de meses"
   ]
  },
  {
   "cell_type": "code",
   "execution_count": 55,
   "metadata": {},
   "outputs": [
    {
     "name": "stdout",
     "output_type": "stream",
     "text": [
      "[1 2 3]\n",
      "[4]\n"
     ]
    }
   ],
   "source": [
    "df_cancel_ativ['data_cancelamento'] = pd.to_datetime(df_cancel_ativ['data_cancelamento'])\n",
    "df_cancel_ativ['data_ativacao'] = pd.to_datetime(df_cancel_ativ['data_ativacao'])\n",
    "\n",
    "meses_cancel = df_cancel_ativ['data_cancelamento'].dt.month.unique()\n",
    "meses_ativ = df_cancel_ativ['data_ativacao'].dt.month.unique()\n",
    "\n",
    "print(meses_cancel)\n",
    "print(meses_ativ)"
   ]
  },
  {
   "cell_type": "markdown",
   "metadata": {},
   "source": [
    "gerando excel final"
   ]
  },
  {
   "cell_type": "code",
   "execution_count": 58,
   "metadata": {},
   "outputs": [],
   "source": [
    "save_path = r\"C:\\Users\\raphael.almeida\\Documents\\Projetos\\Placas Canceladas Ativadas\\placas_canceladas_ativadas.xlsx\"\n",
    "df_cancel_ativ.to_excel(save_path, engine='openpyxl', index=False, sheet_name=\"placas_canceladas_ativadas\")"
   ]
  }
 ],
 "metadata": {
  "kernelspec": {
   "display_name": "env",
   "language": "python",
   "name": "python3"
  },
  "language_info": {
   "codemirror_mode": {
    "name": "ipython",
    "version": 3
   },
   "file_extension": ".py",
   "mimetype": "text/x-python",
   "name": "python",
   "nbconvert_exporter": "python",
   "pygments_lexer": "ipython3",
   "version": "3.12.4"
  }
 },
 "nbformat": 4,
 "nbformat_minor": 2
}
